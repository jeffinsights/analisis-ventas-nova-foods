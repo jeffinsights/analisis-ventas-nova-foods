{
 "cells": [
  {
   "cell_type": "code",
   "execution_count": 11,
   "id": "e81a98ca-b09b-4ba7-bb4e-ce27fb6b2161",
   "metadata": {},
   "outputs": [],
   "source": [
    "import pandas as pd"
   ]
  },
  {
   "cell_type": "code",
   "execution_count": 13,
   "id": "b2dafe36-8b89-43cc-8663-36b560a6b52e",
   "metadata": {},
   "outputs": [],
   "source": [
    "df=pd.read_excel(r\"C:\\Users\\jeffs\\Downloads\\nova_food.xlsx\")"
   ]
  },
  {
   "cell_type": "code",
   "execution_count": 38,
   "id": "7cf9b15a-7281-495b-a429-a1f55e2c19b2",
   "metadata": {},
   "outputs": [],
   "source": [
    "#print(df)"
   ]
  },
  {
   "cell_type": "markdown",
   "id": "10867254-0891-4457-92b4-fb55b323f772",
   "metadata": {},
   "source": [
    "# ventas por producto"
   ]
  },
  {
   "cell_type": "code",
   "execution_count": 19,
   "id": "0248274b-0515-48b5-b9eb-2bdd92c5b1a7",
   "metadata": {},
   "outputs": [],
   "source": [
    "ventas_por_producto = df.groupby('Producto')[['Q1', 'Q2', 'Q3', 'Q4']].sum()\n"
   ]
  },
  {
   "cell_type": "code",
   "execution_count": 36,
   "id": "58f72630-d3ec-4fc1-a0bb-1f4d0d31d419",
   "metadata": {},
   "outputs": [],
   "source": [
    "#print(ventas_por_producto)"
   ]
  },
  {
   "cell_type": "markdown",
   "id": "ae8c1082-b583-41cc-9518-3f5ca2f1bb82",
   "metadata": {},
   "source": [
    "# ventas por region "
   ]
  },
  {
   "cell_type": "code",
   "execution_count": 76,
   "id": "3e7b8b51-54b5-4459-a955-0f8bd46127f1",
   "metadata": {},
   "outputs": [],
   "source": [
    "ventas_por_region = df.groupby('Region')[['Q1', 'Q2', 'Q3', 'Q4']].sum().round(2)\n"
   ]
  },
  {
   "cell_type": "code",
   "execution_count": 80,
   "id": "b5292a93-80e6-4609-9c9b-2612037a89ca",
   "metadata": {},
   "outputs": [],
   "source": [
    "#print(ventas_por_region)"
   ]
  },
  {
   "cell_type": "markdown",
   "id": "887b2d01-30f2-4217-913f-07300a6e8ac0",
   "metadata": {},
   "source": [
    "# crecimiento porcentual por trimestre"
   ]
  },
  {
   "cell_type": "code",
   "execution_count": 84,
   "id": "c6ab7d34-7fe6-47b8-90c8-80e14f4847d2",
   "metadata": {},
   "outputs": [],
   "source": [
    "crecimiento_q1_q2=((ventas_por_producto['Q2']-ventas_por_producto['Q1'])/ventas_por_producto['Q1'])*100,round(2)"
   ]
  },
  {
   "cell_type": "code",
   "execution_count": 72,
   "id": "25a0e214-f6d9-4e81-b45b-ef2c148b51b7",
   "metadata": {},
   "outputs": [
    {
     "name": "stdout",
     "output_type": "stream",
     "text": [
      "(Producto\n",
      "Helado    9.638554\n",
      "Yogurt    7.142857\n",
      "dtype: float64, 2)\n"
     ]
    }
   ],
   "source": [
    "print(crecimiento_q1_q2)"
   ]
  },
  {
   "cell_type": "code",
   "execution_count": 54,
   "id": "27ca6a13-6d91-49c5-a704-2fd04786bcb2",
   "metadata": {},
   "outputs": [],
   "source": [
    "crecimiento_q2_q3=((ventas_por_producto['Q3']-ventas_por_producto['Q2'])/ventas_por_producto['Q2'])*100"
   ]
  },
  {
   "cell_type": "code",
   "execution_count": 74,
   "id": "e946356e-a17a-44f3-a0b3-b6467cc17415",
   "metadata": {},
   "outputs": [
    {
     "name": "stdout",
     "output_type": "stream",
     "text": [
      "Producto\n",
      "Helado    20.879121\n",
      "Yogurt    16.000000\n",
      "dtype: float64\n"
     ]
    }
   ],
   "source": [
    "print(crecimiento_q2_q3)"
   ]
  },
  {
   "cell_type": "code",
   "execution_count": 56,
   "id": "7ae3cc39-03e0-40bd-9f29-11d61e62d5a9",
   "metadata": {},
   "outputs": [],
   "source": [
    "crecimiento_q3_q4=((ventas_por_producto['Q4']-ventas_por_producto['Q3'])/ventas_por_producto['Q3'])*100"
   ]
  },
  {
   "cell_type": "code",
   "execution_count": 88,
   "id": "2120020c-8674-4af6-b857-261f1cfab536",
   "metadata": {},
   "outputs": [],
   "source": [
    "crecimiento_pct = ventas_por_producto.T.pct_change().T * 100\n"
   ]
  },
  {
   "cell_type": "code",
   "execution_count": 90,
   "id": "6e45d9ca-6611-4cf5-9305-b79096b917e1",
   "metadata": {},
   "outputs": [
    {
     "name": "stdout",
     "output_type": "stream",
     "text": [
      "          Q1        Q2         Q3         Q4\n",
      "Producto                                    \n",
      "Helado   NaN  9.638554  20.879121   7.272727\n",
      "Yogurt   NaN  7.142857  16.000000  11.494253\n"
     ]
    },
    {
     "ename": "AttributeError",
     "evalue": "'NoneType' object has no attribute 'round'",
     "output_type": "error",
     "traceback": [
      "\u001b[1;31m---------------------------------------------------------------------------\u001b[0m",
      "\u001b[1;31mAttributeError\u001b[0m                            Traceback (most recent call last)",
      "Cell \u001b[1;32mIn[90], line 1\u001b[0m\n\u001b[1;32m----> 1\u001b[0m \u001b[38;5;28mprint\u001b[39m(crecimiento_pct)\u001b[38;5;241m.\u001b[39mround(\u001b[38;5;241m2\u001b[39m)\n",
      "\u001b[1;31mAttributeError\u001b[0m: 'NoneType' object has no attribute 'round'"
     ]
    }
   ],
   "source": [
    "print(crecimiento_pct).round(2)"
   ]
  },
  {
   "cell_type": "code",
   "execution_count": 100,
   "id": "e3c0134c-36fc-4bf1-9eeb-8dc9d13a4595",
   "metadata": {},
   "outputs": [],
   "source": [
    "crecimiento = crecimiento_pct.round(2)\n"
   ]
  },
  {
   "cell_type": "code",
   "execution_count": 102,
   "id": "91dd5e8b-bf14-48b5-8f71-0684afa0e5d5",
   "metadata": {},
   "outputs": [
    {
     "name": "stdout",
     "output_type": "stream",
     "text": [
      "          Q1    Q2     Q3     Q4\n",
      "Producto                        \n",
      "Helado   NaN  9.64  20.88   7.27\n",
      "Yogurt   NaN  7.14  16.00  11.49\n"
     ]
    }
   ],
   "source": [
    "print(crecimiento)"
   ]
  },
  {
   "cell_type": "code",
   "execution_count": 106,
   "id": "31629561-7a62-430a-8d46-9a5ca979db13",
   "metadata": {},
   "outputs": [
    {
     "data": {
      "image/png": "[encoded data removed]",
      "text/plain": [
       "<Figure size 700x300 with 1 Axes>"
      ]
     },
     "metadata": {},
     "output_type": "display_data"
    }
   ],
   "source": [
    "import matplotlib.pyplot as plt\n",
    "\n",
    "crecimiento.plot(kind='bar', figsize=(7, 3), title='Crecimiento de Ventas por Producto (%)')\n",
    "plt.ylabel('Crecimiento (%)')\n",
    "plt.xlabel('Producto')\n",
    "plt.xticks(rotation=0)\n",
    "plt.grid(axis='y')\n",
    "plt.tight_layout()\n",
    "plt.show()\n"
   ]
  },
  {
   "cell_type": "code",
   "execution_count": null,
   "id": "73323efc-badb-492b-8d50-91744a6266b5",
   "metadata": {},
   "outputs": [],
   "source": []
  },
  {
   "cell_type": "code",
   "execution_count": 108,
   "id": "743974ca-7014-4ed4-a412-650bff856684",
   "metadata": {},
   "outputs": [
    {
     "data": {
      "text/html": [
       "<div>\n",
       "<style scoped>\n",
       "    .dataframe tbody tr th:only-of-type {\n",
       "        vertical-align: middle;\n",
       "    }\n",
       "\n",
       "    .dataframe tbody tr th {\n",
       "        vertical-align: top;\n",
       "    }\n",
       "\n",
       "    .dataframe thead th {\n",
       "        text-align: right;\n",
       "    }\n",
       "</style>\n",
       "<table border=\"1\" class=\"dataframe\">\n",
       "  <thead>\n",
       "    <tr style=\"text-align: right;\">\n",
       "      <th></th>\n",
       "      <th>Q1</th>\n",
       "      <th>Q2</th>\n",
       "      <th>Q3</th>\n",
       "      <th>Q4</th>\n",
       "    </tr>\n",
       "    <tr>\n",
       "      <th>Producto</th>\n",
       "      <th></th>\n",
       "      <th></th>\n",
       "      <th></th>\n",
       "      <th></th>\n",
       "    </tr>\n",
       "  </thead>\n",
       "  <tbody>\n",
       "    <tr>\n",
       "      <th>Helado</th>\n",
       "      <td>NaN</td>\n",
       "      <td>9.64</td>\n",
       "      <td>20.88</td>\n",
       "      <td>7.27</td>\n",
       "    </tr>\n",
       "    <tr>\n",
       "      <th>Yogurt</th>\n",
       "      <td>NaN</td>\n",
       "      <td>7.14</td>\n",
       "      <td>16.00</td>\n",
       "      <td>11.49</td>\n",
       "    </tr>\n",
       "  </tbody>\n",
       "</table>\n",
       "</div>"
      ],
      "text/plain": [
       "          Q1    Q2     Q3     Q4\n",
       "Producto                        \n",
       "Helado   NaN  9.64  20.88   7.27\n",
       "Yogurt   NaN  7.14  16.00  11.49"
      ]
     },
     "metadata": {},
     "output_type": "display_data"
    }
   ],
   "source": [
    "from IPython.display import display\n",
    "display(crecimiento)\n"
   ]
  },
  {
   "cell_type": "code",
   "execution_count": null,
   "id": "af9859b8-9a31-4380-8461-9685845bf967",
   "metadata": {},
   "outputs": [],
   "source": []
  },
  {
   "cell_type": "code",
   "execution_count": null,
   "id": "0d07637c-2981-4c0e-9442-622dd88aae7b",
   "metadata": {},
   "outputs": [],
   "source": []
  },
  {
   "cell_type": "code",
   "execution_count": null,
   "id": "b4235d10-4c59-48b5-b4e3-d508ea63811e",
   "metadata": {},
   "outputs": [],
   "source": []
  },
  {
   "cell_type": "code",
   "execution_count": null,
   "id": "ecd07fe6-cfc5-47bd-860b-006ee2cacfde",
   "metadata": {},
   "outputs": [],
   "source": []
  }
 ],
 "metadata": {
  "kernelspec": {
   "display_name": "Python [conda env:base] *",
   "language": "python",
   "name": "conda-base-py"
  },
  "language_info": {
   "codemirror_mode": {
    "name": "ipython",
    "version": 3
   },
   "file_extension": ".py",
   "mimetype": "text/x-python",
   "name": "python",
   "nbconvert_exporter": "python",
   "pygments_lexer": "ipython3",
   "version": "3.12.7"
  },
  "panel-cell-order": [
   "37ebe9e8-6a32-41aa-9472-fbf9c5b6cda9"
  ]
 },
 "nbformat": 4,
 "nbformat_minor": 5
}
